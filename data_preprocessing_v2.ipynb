{
 "cells": [
  {
   "cell_type": "code",
   "execution_count": 1,
   "metadata": {
    "collapsed": true
   },
   "outputs": [],
   "source": [
    "import pandas as pd\n",
    "import numpy as np\n",
    "import matplotlib.pyplot as plt\n",
    "get_ipython().magic('matplotlib inline')\n",
    "from IPython.display import display\n",
    "from pandas import ExcelWriter"
   ]
  },
  {
   "cell_type": "markdown",
   "metadata": {},
   "source": [
    "## Load the Data"
   ]
  },
  {
   "cell_type": "code",
   "execution_count": 2,
   "metadata": {
    "collapsed": false
   },
   "outputs": [],
   "source": [
    "wind_data = pd.read_csv('la-haute-borne-data-2013-2016.csv',sep=';')"
   ]
  },
  {
   "cell_type": "code",
   "execution_count": 3,
   "metadata": {
    "collapsed": true
   },
   "outputs": [],
   "source": [
    "# Splitting data based on wind turbine (1-4)\n",
    "\n",
    "turbine_names = wind_data.Wind_turbine_name.unique()\n",
    "turbine_1 = wind_data.loc[wind_data['Wind_turbine_name'] == turbine_names[0]]\n",
    "turbine_2 = wind_data.loc[wind_data['Wind_turbine_name'] == turbine_names[1]]\n",
    "turbine_3 = wind_data.loc[wind_data['Wind_turbine_name'] == turbine_names[2]]\n",
    "turbine_4 = wind_data.loc[wind_data['Wind_turbine_name'] == turbine_names[3]]\n",
    "\n",
    "# Cleaning each turbine data by removing Nan's in the wind speed column\n",
    "turbine_1_clean = turbine_1[np.isfinite(turbine_1['Ws1_avg'])]\n",
    "turbine_2_clean = turbine_2[np.isfinite(turbine_2['Ws1_avg'])]\n",
    "turbine_3_clean = turbine_3[np.isfinite(turbine_3['Ws1_avg'])]\n",
    "turbine_4_clean = turbine_4[np.isfinite(turbine_4['Ws1_avg'])]\n",
    "\n",
    "# Defining the columns to keep\n",
    "cols_2_keep = ['Date_time', 'P_avg', 'P_min', 'P_max', 'P_std', 'Ws1_avg', 'Ws1_min', 'Ws1_max', 'Ws1_std', 'Ws2_avg', 'Ws2_min', \\\n",
    "               'Ws2_max', 'Ws2_std', 'Ws_avg', 'Ws_min', 'Ws_max', 'Ws_std']\n",
    "\n",
    "# Choosing only required columns\n",
    "turbine_1_ultimate = turbine_1_clean.loc[:, cols_2_keep]\n",
    "turbine_2_ultimate = turbine_2_clean.loc[:, cols_2_keep]\n",
    "turbine_3_ultimate = turbine_3_clean.loc[:, cols_2_keep]\n",
    "turbine_4_ultimate = turbine_4_clean.loc[:, cols_2_keep]"
   ]
  },
  {
   "cell_type": "code",
   "execution_count": 4,
   "metadata": {
    "collapsed": true,
    "scrolled": true
   },
   "outputs": [],
   "source": [
    "# Converting date_time column to datetime variable and picking out day,month,hour,minute and year\n",
    "turbine_1_ultimate['Date_time'] = pd.to_datetime(turbine_1_ultimate['Date_time'],format = '%Y-%m-%dT%H:%M:%S')\n",
    "turbine_1_ultimate['Day'] = turbine_1_ultimate['Date_time'].dt.day;\n",
    "turbine_1_ultimate['Month'] = turbine_1_ultimate['Date_time'].dt.month;\n",
    "turbine_1_ultimate['Hour'] = turbine_1_ultimate['Date_time'].dt.hour;\n",
    "turbine_1_ultimate['Minute'] = turbine_1_ultimate['Date_time'].dt.minute;\n",
    "turbine_1_ultimate['Year'] = turbine_1_ultimate['Date_time'].dt.year;\n",
    "\n",
    "turbine_2_ultimate['Date_time'] = pd.to_datetime(turbine_2_ultimate['Date_time'],format = '%Y-%m-%dT%H:%M:%S')\n",
    "turbine_2_ultimate['Day'] = turbine_2_ultimate['Date_time'].dt.day;\n",
    "turbine_2_ultimate['Month'] = turbine_2_ultimate['Date_time'].dt.month;\n",
    "turbine_2_ultimate['Hour'] = turbine_2_ultimate['Date_time'].dt.hour;\n",
    "turbine_2_ultimate['Minute'] = turbine_2_ultimate['Date_time'].dt.minute;\n",
    "turbine_2_ultimate['Year'] = turbine_2_ultimate['Date_time'].dt.year;\n",
    "\n",
    "turbine_3_ultimate['Date_time'] = pd.to_datetime(turbine_3_ultimate['Date_time'],format = '%Y-%m-%dT%H:%M:%S')\n",
    "turbine_3_ultimate['Day'] = turbine_3_ultimate['Date_time'].dt.day;\n",
    "turbine_3_ultimate['Month'] = turbine_3_ultimate['Date_time'].dt.month;\n",
    "turbine_3_ultimate['Hour'] = turbine_3_ultimate['Date_time'].dt.hour;\n",
    "turbine_3_ultimate['Minute'] = turbine_3_ultimate['Date_time'].dt.minute;\n",
    "turbine_3_ultimate['Year'] = turbine_3_ultimate['Date_time'].dt.year;\n",
    "\n",
    "turbine_4_ultimate['Date_time'] = pd.to_datetime(turbine_4_ultimate['Date_time'],format = '%Y-%m-%dT%H:%M:%S')\n",
    "turbine_4_ultimate['Day'] = turbine_4_ultimate['Date_time'].dt.day;\n",
    "turbine_4_ultimate['Month'] = turbine_4_ultimate['Date_time'].dt.month;\n",
    "turbine_4_ultimate['Hour'] = turbine_4_ultimate['Date_time'].dt.hour;\n",
    "turbine_4_ultimate['Minute'] = turbine_4_ultimate['Date_time'].dt.minute;\n",
    "turbine_4_ultimate['Year'] = turbine_4_ultimate['Date_time'].dt.year;"
   ]
  },
  {
   "cell_type": "code",
   "execution_count": 5,
   "metadata": {
    "collapsed": false
   },
   "outputs": [
    {
     "data": {
      "text/html": [
       "<div>\n",
       "<table border=\"1\" class=\"dataframe\">\n",
       "  <thead>\n",
       "    <tr style=\"text-align: right;\">\n",
       "      <th></th>\n",
       "      <th>Date_time</th>\n",
       "      <th>P_avg</th>\n",
       "      <th>P_min</th>\n",
       "      <th>P_max</th>\n",
       "      <th>P_std</th>\n",
       "      <th>Ws1_avg</th>\n",
       "      <th>Ws1_min</th>\n",
       "      <th>Ws1_max</th>\n",
       "      <th>Ws1_std</th>\n",
       "      <th>Ws2_avg</th>\n",
       "      <th>...</th>\n",
       "      <th>Ws2_std</th>\n",
       "      <th>Ws_avg</th>\n",
       "      <th>Ws_min</th>\n",
       "      <th>Ws_max</th>\n",
       "      <th>Ws_std</th>\n",
       "      <th>Day</th>\n",
       "      <th>Month</th>\n",
       "      <th>Hour</th>\n",
       "      <th>Minute</th>\n",
       "      <th>Year</th>\n",
       "    </tr>\n",
       "  </thead>\n",
       "  <tbody>\n",
       "    <tr>\n",
       "      <th>504939</th>\n",
       "      <td>2012-12-31 23:00:00</td>\n",
       "      <td>1072.6500</td>\n",
       "      <td>757.32001</td>\n",
       "      <td>1399.74</td>\n",
       "      <td>116.47000</td>\n",
       "      <td>8.770001</td>\n",
       "      <td>6.27</td>\n",
       "      <td>11.37</td>\n",
       "      <td>0.82</td>\n",
       "      <td>9.160000</td>\n",
       "      <td>...</td>\n",
       "      <td>0.87</td>\n",
       "      <td>8.960000</td>\n",
       "      <td>6.48</td>\n",
       "      <td>11.26</td>\n",
       "      <td>0.81</td>\n",
       "      <td>31</td>\n",
       "      <td>12</td>\n",
       "      <td>23</td>\n",
       "      <td>0</td>\n",
       "      <td>2012</td>\n",
       "    </tr>\n",
       "    <tr>\n",
       "      <th>16021</th>\n",
       "      <td>2012-12-31 23:10:00</td>\n",
       "      <td>1061.4301</td>\n",
       "      <td>660.95001</td>\n",
       "      <td>1398.45</td>\n",
       "      <td>142.82001</td>\n",
       "      <td>8.660000</td>\n",
       "      <td>6.01</td>\n",
       "      <td>11.37</td>\n",
       "      <td>1.02</td>\n",
       "      <td>9.120000</td>\n",
       "      <td>...</td>\n",
       "      <td>1.06</td>\n",
       "      <td>8.890000</td>\n",
       "      <td>5.78</td>\n",
       "      <td>11.65</td>\n",
       "      <td>1.01</td>\n",
       "      <td>31</td>\n",
       "      <td>12</td>\n",
       "      <td>23</td>\n",
       "      <td>10</td>\n",
       "      <td>2012</td>\n",
       "    </tr>\n",
       "    <tr>\n",
       "      <th>320605</th>\n",
       "      <td>2012-12-31 23:20:00</td>\n",
       "      <td>1144.7900</td>\n",
       "      <td>795.96002</td>\n",
       "      <td>1529.84</td>\n",
       "      <td>162.69000</td>\n",
       "      <td>8.940000</td>\n",
       "      <td>6.08</td>\n",
       "      <td>11.29</td>\n",
       "      <td>0.99</td>\n",
       "      <td>9.450000</td>\n",
       "      <td>...</td>\n",
       "      <td>1.08</td>\n",
       "      <td>9.190000</td>\n",
       "      <td>6.10</td>\n",
       "      <td>11.33</td>\n",
       "      <td>1.01</td>\n",
       "      <td>31</td>\n",
       "      <td>12</td>\n",
       "      <td>23</td>\n",
       "      <td>20</td>\n",
       "      <td>2012</td>\n",
       "    </tr>\n",
       "    <tr>\n",
       "      <th>16017</th>\n",
       "      <td>2012-12-31 23:30:00</td>\n",
       "      <td>1183.9800</td>\n",
       "      <td>763.56000</td>\n",
       "      <td>1701.45</td>\n",
       "      <td>194.56000</td>\n",
       "      <td>8.870000</td>\n",
       "      <td>5.96</td>\n",
       "      <td>12.15</td>\n",
       "      <td>1.14</td>\n",
       "      <td>8.979999</td>\n",
       "      <td>...</td>\n",
       "      <td>1.19</td>\n",
       "      <td>8.920000</td>\n",
       "      <td>6.05</td>\n",
       "      <td>12.15</td>\n",
       "      <td>1.13</td>\n",
       "      <td>31</td>\n",
       "      <td>12</td>\n",
       "      <td>23</td>\n",
       "      <td>30</td>\n",
       "      <td>2012</td>\n",
       "    </tr>\n",
       "    <tr>\n",
       "      <th>203</th>\n",
       "      <td>2012-12-31 23:40:00</td>\n",
       "      <td>1317.5500</td>\n",
       "      <td>818.96002</td>\n",
       "      <td>1854.86</td>\n",
       "      <td>215.72000</td>\n",
       "      <td>9.440000</td>\n",
       "      <td>6.06</td>\n",
       "      <td>12.31</td>\n",
       "      <td>1.12</td>\n",
       "      <td>9.510000</td>\n",
       "      <td>...</td>\n",
       "      <td>1.17</td>\n",
       "      <td>9.479999</td>\n",
       "      <td>6.14</td>\n",
       "      <td>12.48</td>\n",
       "      <td>1.10</td>\n",
       "      <td>31</td>\n",
       "      <td>12</td>\n",
       "      <td>23</td>\n",
       "      <td>40</td>\n",
       "      <td>2012</td>\n",
       "    </tr>\n",
       "  </tbody>\n",
       "</table>\n",
       "<p>5 rows × 22 columns</p>\n",
       "</div>"
      ],
      "text/plain": [
       "                 Date_time      P_avg      P_min    P_max      P_std  \\\n",
       "504939 2012-12-31 23:00:00  1072.6500  757.32001  1399.74  116.47000   \n",
       "16021  2012-12-31 23:10:00  1061.4301  660.95001  1398.45  142.82001   \n",
       "320605 2012-12-31 23:20:00  1144.7900  795.96002  1529.84  162.69000   \n",
       "16017  2012-12-31 23:30:00  1183.9800  763.56000  1701.45  194.56000   \n",
       "203    2012-12-31 23:40:00  1317.5500  818.96002  1854.86  215.72000   \n",
       "\n",
       "         Ws1_avg  Ws1_min  Ws1_max  Ws1_std   Ws2_avg  ...   Ws2_std  \\\n",
       "504939  8.770001     6.27    11.37     0.82  9.160000  ...      0.87   \n",
       "16021   8.660000     6.01    11.37     1.02  9.120000  ...      1.06   \n",
       "320605  8.940000     6.08    11.29     0.99  9.450000  ...      1.08   \n",
       "16017   8.870000     5.96    12.15     1.14  8.979999  ...      1.19   \n",
       "203     9.440000     6.06    12.31     1.12  9.510000  ...      1.17   \n",
       "\n",
       "          Ws_avg  Ws_min  Ws_max  Ws_std  Day  Month  Hour  Minute  Year  \n",
       "504939  8.960000    6.48   11.26    0.81   31     12    23       0  2012  \n",
       "16021   8.890000    5.78   11.65    1.01   31     12    23      10  2012  \n",
       "320605  9.190000    6.10   11.33    1.01   31     12    23      20  2012  \n",
       "16017   8.920000    6.05   12.15    1.13   31     12    23      30  2012  \n",
       "203     9.479999    6.14   12.48    1.10   31     12    23      40  2012  \n",
       "\n",
       "[5 rows x 22 columns]"
      ]
     },
     "execution_count": 5,
     "metadata": {},
     "output_type": "execute_result"
    }
   ],
   "source": [
    "# Sorting the rows based on the date time\n",
    "\n",
    "turbine_1_sorted = turbine_1_ultimate.sort_values(by = 'Date_time')\n",
    "turbine_2_sorted = turbine_2_ultimate.sort_values(by = 'Date_time')\n",
    "turbine_3_sorted = turbine_3_ultimate.sort_values(by = 'Date_time')\n",
    "turbine_4_sorted = turbine_4_ultimate.sort_values(by = 'Date_time')\n",
    "\n",
    "turbine_1_sorted.head()"
   ]
  },
  {
   "cell_type": "code",
   "execution_count": 6,
   "metadata": {
    "collapsed": false
   },
   "outputs": [
    {
     "data": {
      "text/html": [
       "<div>\n",
       "<table border=\"1\" class=\"dataframe\">\n",
       "  <thead>\n",
       "    <tr style=\"text-align: right;\">\n",
       "      <th></th>\n",
       "      <th>P_avg</th>\n",
       "      <th>P_min</th>\n",
       "      <th>P_max</th>\n",
       "      <th>P_std</th>\n",
       "      <th>Ws1_avg</th>\n",
       "      <th>Ws1_min</th>\n",
       "      <th>Ws1_max</th>\n",
       "      <th>Ws1_std</th>\n",
       "      <th>Ws2_avg</th>\n",
       "      <th>Ws2_min</th>\n",
       "      <th>...</th>\n",
       "      <th>Ws2_std</th>\n",
       "      <th>Ws_avg</th>\n",
       "      <th>Ws_min</th>\n",
       "      <th>Ws_max</th>\n",
       "      <th>Ws_std</th>\n",
       "      <th>Day</th>\n",
       "      <th>Month</th>\n",
       "      <th>Hour</th>\n",
       "      <th>Minute</th>\n",
       "      <th>Year</th>\n",
       "    </tr>\n",
       "    <tr>\n",
       "      <th>Date_time</th>\n",
       "      <th></th>\n",
       "      <th></th>\n",
       "      <th></th>\n",
       "      <th></th>\n",
       "      <th></th>\n",
       "      <th></th>\n",
       "      <th></th>\n",
       "      <th></th>\n",
       "      <th></th>\n",
       "      <th></th>\n",
       "      <th></th>\n",
       "      <th></th>\n",
       "      <th></th>\n",
       "      <th></th>\n",
       "      <th></th>\n",
       "      <th></th>\n",
       "      <th></th>\n",
       "      <th></th>\n",
       "      <th></th>\n",
       "      <th></th>\n",
       "      <th></th>\n",
       "    </tr>\n",
       "  </thead>\n",
       "  <tbody>\n",
       "    <tr>\n",
       "      <th>2012-12-31 23:00:00</th>\n",
       "      <td>1072.6500</td>\n",
       "      <td>757.32001</td>\n",
       "      <td>1399.74</td>\n",
       "      <td>116.47000</td>\n",
       "      <td>8.770001</td>\n",
       "      <td>6.27</td>\n",
       "      <td>11.37</td>\n",
       "      <td>0.82</td>\n",
       "      <td>9.160000</td>\n",
       "      <td>6.68</td>\n",
       "      <td>...</td>\n",
       "      <td>0.87</td>\n",
       "      <td>8.960000</td>\n",
       "      <td>6.48</td>\n",
       "      <td>11.26</td>\n",
       "      <td>0.81</td>\n",
       "      <td>31</td>\n",
       "      <td>12</td>\n",
       "      <td>23</td>\n",
       "      <td>0</td>\n",
       "      <td>2012</td>\n",
       "    </tr>\n",
       "    <tr>\n",
       "      <th>2012-12-31 23:10:00</th>\n",
       "      <td>1061.4301</td>\n",
       "      <td>660.95001</td>\n",
       "      <td>1398.45</td>\n",
       "      <td>142.82001</td>\n",
       "      <td>8.660000</td>\n",
       "      <td>6.01</td>\n",
       "      <td>11.37</td>\n",
       "      <td>1.02</td>\n",
       "      <td>9.120000</td>\n",
       "      <td>5.46</td>\n",
       "      <td>...</td>\n",
       "      <td>1.06</td>\n",
       "      <td>8.890000</td>\n",
       "      <td>5.78</td>\n",
       "      <td>11.65</td>\n",
       "      <td>1.01</td>\n",
       "      <td>31</td>\n",
       "      <td>12</td>\n",
       "      <td>23</td>\n",
       "      <td>10</td>\n",
       "      <td>2012</td>\n",
       "    </tr>\n",
       "    <tr>\n",
       "      <th>2012-12-31 23:20:00</th>\n",
       "      <td>1144.7900</td>\n",
       "      <td>795.96002</td>\n",
       "      <td>1529.84</td>\n",
       "      <td>162.69000</td>\n",
       "      <td>8.940000</td>\n",
       "      <td>6.08</td>\n",
       "      <td>11.29</td>\n",
       "      <td>0.99</td>\n",
       "      <td>9.450000</td>\n",
       "      <td>5.89</td>\n",
       "      <td>...</td>\n",
       "      <td>1.08</td>\n",
       "      <td>9.190000</td>\n",
       "      <td>6.10</td>\n",
       "      <td>11.33</td>\n",
       "      <td>1.01</td>\n",
       "      <td>31</td>\n",
       "      <td>12</td>\n",
       "      <td>23</td>\n",
       "      <td>20</td>\n",
       "      <td>2012</td>\n",
       "    </tr>\n",
       "    <tr>\n",
       "      <th>2012-12-31 23:30:00</th>\n",
       "      <td>1183.9800</td>\n",
       "      <td>763.56000</td>\n",
       "      <td>1701.45</td>\n",
       "      <td>194.56000</td>\n",
       "      <td>8.870000</td>\n",
       "      <td>5.96</td>\n",
       "      <td>12.15</td>\n",
       "      <td>1.14</td>\n",
       "      <td>8.979999</td>\n",
       "      <td>5.64</td>\n",
       "      <td>...</td>\n",
       "      <td>1.19</td>\n",
       "      <td>8.920000</td>\n",
       "      <td>6.05</td>\n",
       "      <td>12.15</td>\n",
       "      <td>1.13</td>\n",
       "      <td>31</td>\n",
       "      <td>12</td>\n",
       "      <td>23</td>\n",
       "      <td>30</td>\n",
       "      <td>2012</td>\n",
       "    </tr>\n",
       "    <tr>\n",
       "      <th>2012-12-31 23:40:00</th>\n",
       "      <td>1317.5500</td>\n",
       "      <td>818.96002</td>\n",
       "      <td>1854.86</td>\n",
       "      <td>215.72000</td>\n",
       "      <td>9.440000</td>\n",
       "      <td>6.06</td>\n",
       "      <td>12.31</td>\n",
       "      <td>1.12</td>\n",
       "      <td>9.510000</td>\n",
       "      <td>6.10</td>\n",
       "      <td>...</td>\n",
       "      <td>1.17</td>\n",
       "      <td>9.479999</td>\n",
       "      <td>6.14</td>\n",
       "      <td>12.48</td>\n",
       "      <td>1.10</td>\n",
       "      <td>31</td>\n",
       "      <td>12</td>\n",
       "      <td>23</td>\n",
       "      <td>40</td>\n",
       "      <td>2012</td>\n",
       "    </tr>\n",
       "  </tbody>\n",
       "</table>\n",
       "<p>5 rows × 21 columns</p>\n",
       "</div>"
      ],
      "text/plain": [
       "                         P_avg      P_min    P_max      P_std   Ws1_avg  \\\n",
       "Date_time                                                                 \n",
       "2012-12-31 23:00:00  1072.6500  757.32001  1399.74  116.47000  8.770001   \n",
       "2012-12-31 23:10:00  1061.4301  660.95001  1398.45  142.82001  8.660000   \n",
       "2012-12-31 23:20:00  1144.7900  795.96002  1529.84  162.69000  8.940000   \n",
       "2012-12-31 23:30:00  1183.9800  763.56000  1701.45  194.56000  8.870000   \n",
       "2012-12-31 23:40:00  1317.5500  818.96002  1854.86  215.72000  9.440000   \n",
       "\n",
       "                     Ws1_min  Ws1_max  Ws1_std   Ws2_avg  Ws2_min  ...   \\\n",
       "Date_time                                                          ...    \n",
       "2012-12-31 23:00:00     6.27    11.37     0.82  9.160000     6.68  ...    \n",
       "2012-12-31 23:10:00     6.01    11.37     1.02  9.120000     5.46  ...    \n",
       "2012-12-31 23:20:00     6.08    11.29     0.99  9.450000     5.89  ...    \n",
       "2012-12-31 23:30:00     5.96    12.15     1.14  8.979999     5.64  ...    \n",
       "2012-12-31 23:40:00     6.06    12.31     1.12  9.510000     6.10  ...    \n",
       "\n",
       "                     Ws2_std    Ws_avg  Ws_min  Ws_max  Ws_std  Day  Month  \\\n",
       "Date_time                                                                    \n",
       "2012-12-31 23:00:00     0.87  8.960000    6.48   11.26    0.81   31     12   \n",
       "2012-12-31 23:10:00     1.06  8.890000    5.78   11.65    1.01   31     12   \n",
       "2012-12-31 23:20:00     1.08  9.190000    6.10   11.33    1.01   31     12   \n",
       "2012-12-31 23:30:00     1.19  8.920000    6.05   12.15    1.13   31     12   \n",
       "2012-12-31 23:40:00     1.17  9.479999    6.14   12.48    1.10   31     12   \n",
       "\n",
       "                     Hour  Minute  Year  \n",
       "Date_time                                \n",
       "2012-12-31 23:00:00    23       0  2012  \n",
       "2012-12-31 23:10:00    23      10  2012  \n",
       "2012-12-31 23:20:00    23      20  2012  \n",
       "2012-12-31 23:30:00    23      30  2012  \n",
       "2012-12-31 23:40:00    23      40  2012  \n",
       "\n",
       "[5 rows x 21 columns]"
      ]
     },
     "execution_count": 6,
     "metadata": {},
     "output_type": "execute_result"
    }
   ],
   "source": [
    "turbine_1_x = turbine_1_sorted.set_index('Date_time')\n",
    "turbine_2_x = turbine_2_sorted.set_index('Date_time')\n",
    "turbine_3_x = turbine_3_sorted.set_index('Date_time')\n",
    "turbine_4_x = turbine_4_sorted.set_index('Date_time')\n",
    "\n",
    "turbine_1_x.head()"
   ]
  },
  {
   "cell_type": "code",
   "execution_count": 7,
   "metadata": {
    "collapsed": true
   },
   "outputs": [],
   "source": [
    "idx = turbine_1_x.index.intersection(turbine_2_x.index)\n",
    "idx2 = turbine_3_x.index.intersection(idx)\n",
    "idx3 = turbine_4_x.index.intersection(idx2)"
   ]
  },
  {
   "cell_type": "code",
   "execution_count": 8,
   "metadata": {
    "collapsed": true
   },
   "outputs": [],
   "source": [
    "turbine_1_x = turbine_1_x.loc[idx3]\n",
    "turbine_2_x = turbine_2_x.loc[idx3]\n",
    "turbine_3_x = turbine_3_x.loc[idx3]\n",
    "turbine_4_x = turbine_4_x.loc[idx3]"
   ]
  },
  {
   "cell_type": "code",
   "execution_count": 9,
   "metadata": {
    "collapsed": false
   },
   "outputs": [
    {
     "name": "stdout",
     "output_type": "stream",
     "text": [
      "207789\n",
      "207789\n",
      "207789\n",
      "207789\n"
     ]
    },
    {
     "data": {
      "text/html": [
       "<div>\n",
       "<table border=\"1\" class=\"dataframe\">\n",
       "  <thead>\n",
       "    <tr style=\"text-align: right;\">\n",
       "      <th></th>\n",
       "      <th>P_avg</th>\n",
       "      <th>P_min</th>\n",
       "      <th>P_max</th>\n",
       "      <th>P_std</th>\n",
       "      <th>Ws1_avg</th>\n",
       "      <th>Ws1_min</th>\n",
       "      <th>Ws1_max</th>\n",
       "      <th>Ws1_std</th>\n",
       "      <th>Ws2_avg</th>\n",
       "      <th>Ws2_min</th>\n",
       "      <th>...</th>\n",
       "      <th>Ws2_std</th>\n",
       "      <th>Ws_avg</th>\n",
       "      <th>Ws_min</th>\n",
       "      <th>Ws_max</th>\n",
       "      <th>Ws_std</th>\n",
       "      <th>Day</th>\n",
       "      <th>Month</th>\n",
       "      <th>Hour</th>\n",
       "      <th>Minute</th>\n",
       "      <th>Year</th>\n",
       "    </tr>\n",
       "    <tr>\n",
       "      <th>Date_time</th>\n",
       "      <th></th>\n",
       "      <th></th>\n",
       "      <th></th>\n",
       "      <th></th>\n",
       "      <th></th>\n",
       "      <th></th>\n",
       "      <th></th>\n",
       "      <th></th>\n",
       "      <th></th>\n",
       "      <th></th>\n",
       "      <th></th>\n",
       "      <th></th>\n",
       "      <th></th>\n",
       "      <th></th>\n",
       "      <th></th>\n",
       "      <th></th>\n",
       "      <th></th>\n",
       "      <th></th>\n",
       "      <th></th>\n",
       "      <th></th>\n",
       "      <th></th>\n",
       "    </tr>\n",
       "  </thead>\n",
       "  <tbody>\n",
       "    <tr>\n",
       "      <th>2012-12-31 23:00:00</th>\n",
       "      <td>1072.6500</td>\n",
       "      <td>757.32001</td>\n",
       "      <td>1399.74</td>\n",
       "      <td>116.47000</td>\n",
       "      <td>8.770001</td>\n",
       "      <td>6.27</td>\n",
       "      <td>11.37</td>\n",
       "      <td>0.82</td>\n",
       "      <td>9.160000</td>\n",
       "      <td>6.68</td>\n",
       "      <td>...</td>\n",
       "      <td>0.87</td>\n",
       "      <td>8.960000</td>\n",
       "      <td>6.48</td>\n",
       "      <td>11.26</td>\n",
       "      <td>0.81</td>\n",
       "      <td>31</td>\n",
       "      <td>12</td>\n",
       "      <td>23</td>\n",
       "      <td>0</td>\n",
       "      <td>2012</td>\n",
       "    </tr>\n",
       "    <tr>\n",
       "      <th>2012-12-31 23:10:00</th>\n",
       "      <td>1061.4301</td>\n",
       "      <td>660.95001</td>\n",
       "      <td>1398.45</td>\n",
       "      <td>142.82001</td>\n",
       "      <td>8.660000</td>\n",
       "      <td>6.01</td>\n",
       "      <td>11.37</td>\n",
       "      <td>1.02</td>\n",
       "      <td>9.120000</td>\n",
       "      <td>5.46</td>\n",
       "      <td>...</td>\n",
       "      <td>1.06</td>\n",
       "      <td>8.890000</td>\n",
       "      <td>5.78</td>\n",
       "      <td>11.65</td>\n",
       "      <td>1.01</td>\n",
       "      <td>31</td>\n",
       "      <td>12</td>\n",
       "      <td>23</td>\n",
       "      <td>10</td>\n",
       "      <td>2012</td>\n",
       "    </tr>\n",
       "    <tr>\n",
       "      <th>2012-12-31 23:20:00</th>\n",
       "      <td>1144.7900</td>\n",
       "      <td>795.96002</td>\n",
       "      <td>1529.84</td>\n",
       "      <td>162.69000</td>\n",
       "      <td>8.940000</td>\n",
       "      <td>6.08</td>\n",
       "      <td>11.29</td>\n",
       "      <td>0.99</td>\n",
       "      <td>9.450000</td>\n",
       "      <td>5.89</td>\n",
       "      <td>...</td>\n",
       "      <td>1.08</td>\n",
       "      <td>9.190000</td>\n",
       "      <td>6.10</td>\n",
       "      <td>11.33</td>\n",
       "      <td>1.01</td>\n",
       "      <td>31</td>\n",
       "      <td>12</td>\n",
       "      <td>23</td>\n",
       "      <td>20</td>\n",
       "      <td>2012</td>\n",
       "    </tr>\n",
       "    <tr>\n",
       "      <th>2012-12-31 23:30:00</th>\n",
       "      <td>1183.9800</td>\n",
       "      <td>763.56000</td>\n",
       "      <td>1701.45</td>\n",
       "      <td>194.56000</td>\n",
       "      <td>8.870000</td>\n",
       "      <td>5.96</td>\n",
       "      <td>12.15</td>\n",
       "      <td>1.14</td>\n",
       "      <td>8.979999</td>\n",
       "      <td>5.64</td>\n",
       "      <td>...</td>\n",
       "      <td>1.19</td>\n",
       "      <td>8.920000</td>\n",
       "      <td>6.05</td>\n",
       "      <td>12.15</td>\n",
       "      <td>1.13</td>\n",
       "      <td>31</td>\n",
       "      <td>12</td>\n",
       "      <td>23</td>\n",
       "      <td>30</td>\n",
       "      <td>2012</td>\n",
       "    </tr>\n",
       "    <tr>\n",
       "      <th>2012-12-31 23:40:00</th>\n",
       "      <td>1317.5500</td>\n",
       "      <td>818.96002</td>\n",
       "      <td>1854.86</td>\n",
       "      <td>215.72000</td>\n",
       "      <td>9.440000</td>\n",
       "      <td>6.06</td>\n",
       "      <td>12.31</td>\n",
       "      <td>1.12</td>\n",
       "      <td>9.510000</td>\n",
       "      <td>6.10</td>\n",
       "      <td>...</td>\n",
       "      <td>1.17</td>\n",
       "      <td>9.479999</td>\n",
       "      <td>6.14</td>\n",
       "      <td>12.48</td>\n",
       "      <td>1.10</td>\n",
       "      <td>31</td>\n",
       "      <td>12</td>\n",
       "      <td>23</td>\n",
       "      <td>40</td>\n",
       "      <td>2012</td>\n",
       "    </tr>\n",
       "  </tbody>\n",
       "</table>\n",
       "<p>5 rows × 21 columns</p>\n",
       "</div>"
      ],
      "text/plain": [
       "                         P_avg      P_min    P_max      P_std   Ws1_avg  \\\n",
       "Date_time                                                                 \n",
       "2012-12-31 23:00:00  1072.6500  757.32001  1399.74  116.47000  8.770001   \n",
       "2012-12-31 23:10:00  1061.4301  660.95001  1398.45  142.82001  8.660000   \n",
       "2012-12-31 23:20:00  1144.7900  795.96002  1529.84  162.69000  8.940000   \n",
       "2012-12-31 23:30:00  1183.9800  763.56000  1701.45  194.56000  8.870000   \n",
       "2012-12-31 23:40:00  1317.5500  818.96002  1854.86  215.72000  9.440000   \n",
       "\n",
       "                     Ws1_min  Ws1_max  Ws1_std   Ws2_avg  Ws2_min  ...   \\\n",
       "Date_time                                                          ...    \n",
       "2012-12-31 23:00:00     6.27    11.37     0.82  9.160000     6.68  ...    \n",
       "2012-12-31 23:10:00     6.01    11.37     1.02  9.120000     5.46  ...    \n",
       "2012-12-31 23:20:00     6.08    11.29     0.99  9.450000     5.89  ...    \n",
       "2012-12-31 23:30:00     5.96    12.15     1.14  8.979999     5.64  ...    \n",
       "2012-12-31 23:40:00     6.06    12.31     1.12  9.510000     6.10  ...    \n",
       "\n",
       "                     Ws2_std    Ws_avg  Ws_min  Ws_max  Ws_std  Day  Month  \\\n",
       "Date_time                                                                    \n",
       "2012-12-31 23:00:00     0.87  8.960000    6.48   11.26    0.81   31     12   \n",
       "2012-12-31 23:10:00     1.06  8.890000    5.78   11.65    1.01   31     12   \n",
       "2012-12-31 23:20:00     1.08  9.190000    6.10   11.33    1.01   31     12   \n",
       "2012-12-31 23:30:00     1.19  8.920000    6.05   12.15    1.13   31     12   \n",
       "2012-12-31 23:40:00     1.17  9.479999    6.14   12.48    1.10   31     12   \n",
       "\n",
       "                     Hour  Minute  Year  \n",
       "Date_time                                \n",
       "2012-12-31 23:00:00    23       0  2012  \n",
       "2012-12-31 23:10:00    23      10  2012  \n",
       "2012-12-31 23:20:00    23      20  2012  \n",
       "2012-12-31 23:30:00    23      30  2012  \n",
       "2012-12-31 23:40:00    23      40  2012  \n",
       "\n",
       "[5 rows x 21 columns]"
      ]
     },
     "execution_count": 9,
     "metadata": {},
     "output_type": "execute_result"
    }
   ],
   "source": [
    "print len(turbine_1_x)\n",
    "print len(turbine_2_x)\n",
    "print len(turbine_3_x)\n",
    "print len(turbine_4_x)\n",
    "\n",
    "turbine_1_x.head()"
   ]
  },
  {
   "cell_type": "code",
   "execution_count": 11,
   "metadata": {
    "collapsed": false
   },
   "outputs": [
    {
     "data": {
      "text/plain": [
       "['P_avg',\n",
       " 'P_min',\n",
       " 'P_max',\n",
       " 'P_std',\n",
       " 'Ws1_avg',\n",
       " 'Ws1_min',\n",
       " 'Ws1_max',\n",
       " 'Ws1_std',\n",
       " 'Ws2_avg',\n",
       " 'Ws2_min',\n",
       " 'Ws2_max',\n",
       " 'Ws2_std',\n",
       " 'Ws_avg',\n",
       " 'Ws_min',\n",
       " 'Ws_max',\n",
       " 'Ws_std',\n",
       " 'Day',\n",
       " 'Month',\n",
       " 'Hour',\n",
       " 'Minute',\n",
       " 'Year']"
      ]
     },
     "execution_count": 11,
     "metadata": {},
     "output_type": "execute_result"
    }
   ],
   "source": [
    "list(turbine_1_x)"
   ]
  },
  {
   "cell_type": "markdown",
   "metadata": {},
   "source": [
    "## Getting the X matrix as 70% of the features (sequentially)"
   ]
  },
  {
   "cell_type": "markdown",
   "metadata": {},
   "source": [
    "### Right now, use turbine 1 to predict turbine 2, 3, 4\n"
   ]
  },
  {
   "cell_type": "code",
   "execution_count": 32,
   "metadata": {
    "collapsed": false
   },
   "outputs": [],
   "source": [
    "# Getting X vector from turbine 1 data sequentially\n",
    "\n",
    "x_turb_1_train = turbine_1_x[0:145452]\n",
    "x_turb_1_train = x_turb_1_train.loc[:,['P_avg','Ws_avg','Year','Month','Day','Hour','Minute']]\n",
    "x_train = np.array(x_turb_1_train)\n",
    "\n",
    "x_turb_1_test = turbine_1_x[145452:]\n",
    "x_turb_1_test = x_turb_1_test.loc[:,['P_avg','Ws_avg','Year','Month','Day','Hour','Minute']]\n",
    "x_test = np.array(x_turb_1_test)"
   ]
  },
  {
   "cell_type": "code",
   "execution_count": 33,
   "metadata": {
    "collapsed": false
   },
   "outputs": [],
   "source": [
    "# Getting Y vector from turbine 2 data\n",
    "\n",
    "y_turb_2_train = turbine_2_x[0:145452]\n",
    "y_turb_2_train = y_turb_2_train.loc[:,['P_avg']]\n",
    "y_train = np.array(y_turb_2_train)\n",
    "\n",
    "y_turb_2_test = turbine_2_x[145452:]\n",
    "y_turb_2_test = y_turb_2_test.loc[:,['P_avg']]\n",
    "y_test = np.array(y_turb_2_test)"
   ]
  },
  {
   "cell_type": "code",
   "execution_count": 37,
   "metadata": {
    "collapsed": false
   },
   "outputs": [
    {
     "data": {
      "text/plain": [
       "[<matplotlib.lines.Line2D at 0x119d22b0>]"
      ]
     },
     "execution_count": 37,
     "metadata": {},
     "output_type": "execute_result"
    },
    {
     "data": {
      "image/png": "[encoded data removed]",
      "text/plain": [
       "<matplotlib.figure.Figure at 0x119d22e8>"
      ]
     },
     "metadata": {},
     "output_type": "display_data"
    }
   ],
   "source": [
    "plt.plot(y_test)\n",
    "\n",
    "plt.plot(y_train)"
   ]
  },
  {
   "cell_type": "code",
   "execution_count": 45,
   "metadata": {
    "collapsed": false
   },
   "outputs": [
    {
     "name": "stdout",
     "output_type": "stream",
     "text": [
      "(145452L, 1L)\n",
      "(145452L, 1L)\n"
     ]
    },
    {
     "data": {
      "image/png": "[encoded data removed]",
      "text/plain": [
       "<matplotlib.figure.Figure at 0x350904e0>"
      ]
     },
     "metadata": {},
     "output_type": "display_data"
    }
   ],
   "source": [
    "x_train_plot = np.array(x_turb_1_train.loc[:,['P_avg']])\n",
    "\n",
    "plt.plot(x_train_plot)\n",
    "plt.plot(y_train)\n",
    "\n",
    "print(x_train_plot.shape)\n",
    "print(y_train.shape)"
   ]
  },
  {
   "cell_type": "code",
   "execution_count": 46,
   "metadata": {
    "collapsed": false
   },
   "outputs": [
    {
     "data": {
      "text/plain": [
       "array([[-4.4699998],\n",
       "       [-4.7199998],\n",
       "       [-4.9699998],\n",
       "       ..., \n",
       "       [-1.73     ],\n",
       "       [-1.12     ],\n",
       "       [-1.       ]])"
      ]
     },
     "execution_count": 46,
     "metadata": {},
     "output_type": "execute_result"
    }
   ],
   "source": [
    "y_train[20000:40000]"
   ]
  },
  {
   "cell_type": "code",
   "execution_count": 34,
   "metadata": {
    "collapsed": false
   },
   "outputs": [
    {
     "name": "stdout",
     "output_type": "stream",
     "text": [
      "Mean squared error: 50713.79\n"
     ]
    }
   ],
   "source": [
    "from sklearn import linear_model\n",
    "from sklearn.metrics import mean_squared_error, r2_score\n",
    "\n",
    "# Importing the regressor\n",
    "regr = linear_model.LinearRegression()\n",
    "\n",
    "# Fitting the training data\n",
    "regr.fit(x_train, y_train)\n",
    "\n",
    "# Make predictions using the testing set\n",
    "y_pred = regr.predict(x_test)\n",
    "\n",
    "# Finding error\n",
    "print(\"Mean squared error: %.2f\"\n",
    "      % mean_squared_error(y_test, y_pred))"
   ]
  },
  {
   "cell_type": "code",
   "execution_count": 61,
   "metadata": {
    "collapsed": false
   },
   "outputs": [
    {
     "data": {
      "text/plain": [
       "[<matplotlib.lines.Line2D at 0x1a1b65f8>]"
      ]
     },
     "execution_count": 61,
     "metadata": {},
     "output_type": "execute_result"
    },
    {
     "data": {
      "image/png": "[encoded data removed]",
      "text/plain": [
       "<matplotlib.figure.Figure at 0x1a1b6780>"
      ]
     },
     "metadata": {},
     "output_type": "display_data"
    }
   ],
   "source": [
    "# Plotting them\n",
    "\n",
    "plt.plot(y_test)\n",
    "plt.plot(y_pred)"
   ]
  },
  {
   "cell_type": "code",
   "execution_count": 62,
   "metadata": {
    "collapsed": false
   },
   "outputs": [
    {
     "data": {
      "text/plain": [
       "[<matplotlib.lines.Line2D at 0x37f81630>]"
      ]
     },
     "execution_count": 62,
     "metadata": {},
     "output_type": "execute_result"
    },
    {
     "data": {
      "image/png": "[encoded data removed]",
      "text/plain": [
       "<matplotlib.figure.Figure at 0x37f81668>"
      ]
     },
     "metadata": {},
     "output_type": "display_data"
    }
   ],
   "source": [
    "plt.plot(y_test[30000:31000])\n",
    "plt.plot(y_pred[30000:31000])\n"
   ]
  }
 ],
 "metadata": {
  "kernelspec": {
   "display_name": "Python 2",
   "language": "python",
   "name": "python2"
  },
  "language_info": {
   "codemirror_mode": {
    "name": "ipython",
    "version": 2
   },
   "file_extension": ".py",
   "mimetype": "text/x-python",
   "name": "python",
   "nbconvert_exporter": "python",
   "pygments_lexer": "ipython2",
   "version": "2.7.13"
  }
 },
 "nbformat": 4,
 "nbformat_minor": 2
}
